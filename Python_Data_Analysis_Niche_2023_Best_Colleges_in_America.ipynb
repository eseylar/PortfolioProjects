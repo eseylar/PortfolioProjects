{
  "nbformat": 4,
  "nbformat_minor": 0,
  "metadata": {
    "colab": {
      "provenance": [],
      "authorship_tag": "ABX9TyNpYfvifjIfUqvKprOvmNO1",
      "include_colab_link": true
    },
    "kernelspec": {
      "name": "python3",
      "display_name": "Python 3"
    },
    "language_info": {
      "name": "python"
    }
  },
  "cells": [
    {
      "cell_type": "markdown",
      "metadata": {
        "id": "view-in-github",
        "colab_type": "text"
      },
      "source": [
        "<a href=\"https://colab.research.google.com/github/eseylar/PortfolioProjects/blob/main/Python_Data_Analysis_Niche_2023_Best_Colleges_in_America.ipynb\" target=\"_parent\"><img src=\"https://colab.research.google.com/assets/colab-badge.svg\" alt=\"Open In Colab\"/></a>"
      ]
    },
    {
      "cell_type": "code",
      "execution_count": 1,
      "metadata": {
        "id": "CE12id_Wg7wd"
      },
      "outputs": [],
      "source": [
        "#importing libraries\n",
        "import numpy as np\n",
        "import pandas as pd\n",
        "import matplotlib.pyplot as plt\n",
        "import seaborn as sns\n",
        "%matplotlib inline"
      ]
    },
    {
      "cell_type": "markdown",
      "source": [
        "## Reading in Data"
      ],
      "metadata": {
        "id": "MvSUpTA0hRb-"
      }
    },
    {
      "cell_type": "code",
      "source": [
        "#read the dataset as .csv file \n",
        "df = pd.read_csv('cleaned_top_250_colleges.csv')"
      ],
      "metadata": {
        "id": "LApeJy_whwsw"
      },
      "execution_count": 2,
      "outputs": []
    },
    {
      "cell_type": "code",
      "source": [
        "#adding calculated SAT_ave column to the dataframe\n",
        "SAT_ave = ( df['SAT_high'] + df['SAT_low'] ) / 2 \n",
        "df['SAT_ave'] = SAT_ave"
      ],
      "metadata": {
        "id": "QjQq0ewL2T_v"
      },
      "execution_count": 3,
      "outputs": []
    },
    {
      "cell_type": "markdown",
      "source": [
        "##Describing Data"
      ],
      "metadata": {
        "id": "lSox-2ezj6XN"
      }
    },
    {
      "cell_type": "code",
      "source": [
        "#set functions describing the numerical columns (ie. count, mean, min, max, standard deviation, etc.); transposed for readability\n",
        "df.describe().T"
      ],
      "metadata": {
        "id": "VEgkKsDZj9Sa",
        "colab": {
          "base_uri": "https://localhost:8080/",
          "height": 238
        },
        "outputId": "df8dcd6e-6e0b-45df-dac8-449600efc406"
      },
      "execution_count": 4,
      "outputs": [
        {
          "output_type": "execute_result",
          "data": {
            "text/plain": [
              "                 count          mean          std     min       25%      50%  \\\n",
              "rank             250.0    125.500000    72.312977     1.0     63.25    125.5   \n",
              "acceptance_rate  250.0     48.748000    25.189971     5.0     27.00     51.0   \n",
              "price            249.0  25296.518072  9841.256394  2734.0  17832.00  24525.0   \n",
              "SAT_low          244.0   1216.086066   126.482764   990.0   1120.00   1200.0   \n",
              "SAT_high         244.0   1401.762295   101.793429  1160.0   1320.00   1400.0   \n",
              "SAT_ave          244.0   1308.924180   112.877603  1090.0   1218.75   1300.0   \n",
              "\n",
              "                      75%      max  \n",
              "rank               187.75    250.0  \n",
              "acceptance_rate     69.00     98.0  \n",
              "price            31799.00  48758.0  \n",
              "SAT_low           1310.00   1530.0  \n",
              "SAT_high          1480.00   1580.0  \n",
              "SAT_ave           1395.00   1555.0  "
            ],
            "text/html": [
              "\n",
              "  <div id=\"df-29e02c41-c5f9-4e32-bb1e-196b0306149f\">\n",
              "    <div class=\"colab-df-container\">\n",
              "      <div>\n",
              "<style scoped>\n",
              "    .dataframe tbody tr th:only-of-type {\n",
              "        vertical-align: middle;\n",
              "    }\n",
              "\n",
              "    .dataframe tbody tr th {\n",
              "        vertical-align: top;\n",
              "    }\n",
              "\n",
              "    .dataframe thead th {\n",
              "        text-align: right;\n",
              "    }\n",
              "</style>\n",
              "<table border=\"1\" class=\"dataframe\">\n",
              "  <thead>\n",
              "    <tr style=\"text-align: right;\">\n",
              "      <th></th>\n",
              "      <th>count</th>\n",
              "      <th>mean</th>\n",
              "      <th>std</th>\n",
              "      <th>min</th>\n",
              "      <th>25%</th>\n",
              "      <th>50%</th>\n",
              "      <th>75%</th>\n",
              "      <th>max</th>\n",
              "    </tr>\n",
              "  </thead>\n",
              "  <tbody>\n",
              "    <tr>\n",
              "      <th>rank</th>\n",
              "      <td>250.0</td>\n",
              "      <td>125.500000</td>\n",
              "      <td>72.312977</td>\n",
              "      <td>1.0</td>\n",
              "      <td>63.25</td>\n",
              "      <td>125.5</td>\n",
              "      <td>187.75</td>\n",
              "      <td>250.0</td>\n",
              "    </tr>\n",
              "    <tr>\n",
              "      <th>acceptance_rate</th>\n",
              "      <td>250.0</td>\n",
              "      <td>48.748000</td>\n",
              "      <td>25.189971</td>\n",
              "      <td>5.0</td>\n",
              "      <td>27.00</td>\n",
              "      <td>51.0</td>\n",
              "      <td>69.00</td>\n",
              "      <td>98.0</td>\n",
              "    </tr>\n",
              "    <tr>\n",
              "      <th>price</th>\n",
              "      <td>249.0</td>\n",
              "      <td>25296.518072</td>\n",
              "      <td>9841.256394</td>\n",
              "      <td>2734.0</td>\n",
              "      <td>17832.00</td>\n",
              "      <td>24525.0</td>\n",
              "      <td>31799.00</td>\n",
              "      <td>48758.0</td>\n",
              "    </tr>\n",
              "    <tr>\n",
              "      <th>SAT_low</th>\n",
              "      <td>244.0</td>\n",
              "      <td>1216.086066</td>\n",
              "      <td>126.482764</td>\n",
              "      <td>990.0</td>\n",
              "      <td>1120.00</td>\n",
              "      <td>1200.0</td>\n",
              "      <td>1310.00</td>\n",
              "      <td>1530.0</td>\n",
              "    </tr>\n",
              "    <tr>\n",
              "      <th>SAT_high</th>\n",
              "      <td>244.0</td>\n",
              "      <td>1401.762295</td>\n",
              "      <td>101.793429</td>\n",
              "      <td>1160.0</td>\n",
              "      <td>1320.00</td>\n",
              "      <td>1400.0</td>\n",
              "      <td>1480.00</td>\n",
              "      <td>1580.0</td>\n",
              "    </tr>\n",
              "    <tr>\n",
              "      <th>SAT_ave</th>\n",
              "      <td>244.0</td>\n",
              "      <td>1308.924180</td>\n",
              "      <td>112.877603</td>\n",
              "      <td>1090.0</td>\n",
              "      <td>1218.75</td>\n",
              "      <td>1300.0</td>\n",
              "      <td>1395.00</td>\n",
              "      <td>1555.0</td>\n",
              "    </tr>\n",
              "  </tbody>\n",
              "</table>\n",
              "</div>\n",
              "      <button class=\"colab-df-convert\" onclick=\"convertToInteractive('df-29e02c41-c5f9-4e32-bb1e-196b0306149f')\"\n",
              "              title=\"Convert this dataframe to an interactive table.\"\n",
              "              style=\"display:none;\">\n",
              "        \n",
              "  <svg xmlns=\"http://www.w3.org/2000/svg\" height=\"24px\"viewBox=\"0 0 24 24\"\n",
              "       width=\"24px\">\n",
              "    <path d=\"M0 0h24v24H0V0z\" fill=\"none\"/>\n",
              "    <path d=\"M18.56 5.44l.94 2.06.94-2.06 2.06-.94-2.06-.94-.94-2.06-.94 2.06-2.06.94zm-11 1L8.5 8.5l.94-2.06 2.06-.94-2.06-.94L8.5 2.5l-.94 2.06-2.06.94zm10 10l.94 2.06.94-2.06 2.06-.94-2.06-.94-.94-2.06-.94 2.06-2.06.94z\"/><path d=\"M17.41 7.96l-1.37-1.37c-.4-.4-.92-.59-1.43-.59-.52 0-1.04.2-1.43.59L10.3 9.45l-7.72 7.72c-.78.78-.78 2.05 0 2.83L4 21.41c.39.39.9.59 1.41.59.51 0 1.02-.2 1.41-.59l7.78-7.78 2.81-2.81c.8-.78.8-2.07 0-2.86zM5.41 20L4 18.59l7.72-7.72 1.47 1.35L5.41 20z\"/>\n",
              "  </svg>\n",
              "      </button>\n",
              "      \n",
              "  <style>\n",
              "    .colab-df-container {\n",
              "      display:flex;\n",
              "      flex-wrap:wrap;\n",
              "      gap: 12px;\n",
              "    }\n",
              "\n",
              "    .colab-df-convert {\n",
              "      background-color: #E8F0FE;\n",
              "      border: none;\n",
              "      border-radius: 50%;\n",
              "      cursor: pointer;\n",
              "      display: none;\n",
              "      fill: #1967D2;\n",
              "      height: 32px;\n",
              "      padding: 0 0 0 0;\n",
              "      width: 32px;\n",
              "    }\n",
              "\n",
              "    .colab-df-convert:hover {\n",
              "      background-color: #E2EBFA;\n",
              "      box-shadow: 0px 1px 2px rgba(60, 64, 67, 0.3), 0px 1px 3px 1px rgba(60, 64, 67, 0.15);\n",
              "      fill: #174EA6;\n",
              "    }\n",
              "\n",
              "    [theme=dark] .colab-df-convert {\n",
              "      background-color: #3B4455;\n",
              "      fill: #D2E3FC;\n",
              "    }\n",
              "\n",
              "    [theme=dark] .colab-df-convert:hover {\n",
              "      background-color: #434B5C;\n",
              "      box-shadow: 0px 1px 3px 1px rgba(0, 0, 0, 0.15);\n",
              "      filter: drop-shadow(0px 1px 2px rgba(0, 0, 0, 0.3));\n",
              "      fill: #FFFFFF;\n",
              "    }\n",
              "  </style>\n",
              "\n",
              "      <script>\n",
              "        const buttonEl =\n",
              "          document.querySelector('#df-29e02c41-c5f9-4e32-bb1e-196b0306149f button.colab-df-convert');\n",
              "        buttonEl.style.display =\n",
              "          google.colab.kernel.accessAllowed ? 'block' : 'none';\n",
              "\n",
              "        async function convertToInteractive(key) {\n",
              "          const element = document.querySelector('#df-29e02c41-c5f9-4e32-bb1e-196b0306149f');\n",
              "          const dataTable =\n",
              "            await google.colab.kernel.invokeFunction('convertToInteractive',\n",
              "                                                     [key], {});\n",
              "          if (!dataTable) return;\n",
              "\n",
              "          const docLinkHtml = 'Like what you see? Visit the ' +\n",
              "            '<a target=\"_blank\" href=https://colab.research.google.com/notebooks/data_table.ipynb>data table notebook</a>'\n",
              "            + ' to learn more about interactive tables.';\n",
              "          element.innerHTML = '';\n",
              "          dataTable['output_type'] = 'display_data';\n",
              "          await google.colab.output.renderOutput(dataTable, element);\n",
              "          const docLink = document.createElement('div');\n",
              "          docLink.innerHTML = docLinkHtml;\n",
              "          element.appendChild(docLink);\n",
              "        }\n",
              "      </script>\n",
              "    </div>\n",
              "  </div>\n",
              "  "
            ]
          },
          "metadata": {},
          "execution_count": 4
        }
      ]
    },
    {
      "cell_type": "markdown",
      "source": [
        "##Data Frame Info"
      ],
      "metadata": {
        "id": "wO1yFf1SlACr"
      }
    },
    {
      "cell_type": "code",
      "source": [
        "#description of dataframe columns\n",
        "df.info()"
      ],
      "metadata": {
        "id": "NomTBTxylDxu",
        "colab": {
          "base_uri": "https://localhost:8080/"
        },
        "outputId": "ce537803-b814-496c-93ac-af346882291e"
      },
      "execution_count": 5,
      "outputs": [
        {
          "output_type": "stream",
          "name": "stdout",
          "text": [
            "<class 'pandas.core.frame.DataFrame'>\n",
            "RangeIndex: 250 entries, 0 to 249\n",
            "Data columns (total 12 columns):\n",
            " #   Column           Non-Null Count  Dtype  \n",
            "---  ------           --------------  -----  \n",
            " 0   rank             250 non-null    int64  \n",
            " 1   name             250 non-null    object \n",
            " 2   city_state       250 non-null    object \n",
            " 3   city             250 non-null    object \n",
            " 4   state            250 non-null    object \n",
            " 5   acceptance_rate  250 non-null    int64  \n",
            " 6   price            249 non-null    float64\n",
            " 7   SAT_range        244 non-null    object \n",
            " 8   SAT_low          244 non-null    float64\n",
            " 9   SAT_high         244 non-null    float64\n",
            " 10  region           250 non-null    object \n",
            " 11  SAT_ave          244 non-null    float64\n",
            "dtypes: float64(4), int64(2), object(6)\n",
            "memory usage: 23.6+ KB\n"
          ]
        }
      ]
    },
    {
      "cell_type": "markdown",
      "source": [
        "##Data Preview"
      ],
      "metadata": {
        "id": "VIxsC8OilUQX"
      }
    },
    {
      "cell_type": "code",
      "source": [
        "#head and tail (first and last 5 rows) of the dataframe\n",
        "display(df.head())\n",
        "display(df.tail())"
      ],
      "metadata": {
        "id": "mc_bfcYzlXrG",
        "colab": {
          "base_uri": "https://localhost:8080/",
          "height": 395
        },
        "outputId": "b2aa0935-e753-4f49-f603-60d19f120c00"
      },
      "execution_count": 6,
      "outputs": [
        {
          "output_type": "display_data",
          "data": {
            "text/plain": [
              "   rank                                   name     city_state       city  \\\n",
              "0     1  Massachusetts Institute of Technology  Cambridge, MA  Cambridge   \n",
              "1     2                    Stanford University   Stanford, CA   Stanford   \n",
              "2     3                     Harvard University  Cambridge, MA  Cambridge   \n",
              "3     4                        Yale University  New Haven, CT  New Haven   \n",
              "4     5                   Princeton University  Princeton, NJ  Princeton   \n",
              "\n",
              "  state  acceptance_rate    price  SAT_range  SAT_low  SAT_high       region  \\\n",
              "0    MA                7  19998.0  1510-1580   1510.0    1580.0  New England   \n",
              "1    CA                5  20023.0  1420-1570   1420.0    1570.0     Far West   \n",
              "2    MA                5  18037.0  1460-1580   1460.0    1580.0  New England   \n",
              "3    CT                7  17511.0  1460-1580   1460.0    1580.0  New England   \n",
              "4    NJ                6  18685.0  1450-1570   1450.0    1570.0     Mid East   \n",
              "\n",
              "   SAT_ave  \n",
              "0   1545.0  \n",
              "1   1495.0  \n",
              "2   1520.0  \n",
              "3   1520.0  \n",
              "4   1510.0  "
            ],
            "text/html": [
              "\n",
              "  <div id=\"df-54cc4830-6d71-498f-80d4-a3df23ed37c1\">\n",
              "    <div class=\"colab-df-container\">\n",
              "      <div>\n",
              "<style scoped>\n",
              "    .dataframe tbody tr th:only-of-type {\n",
              "        vertical-align: middle;\n",
              "    }\n",
              "\n",
              "    .dataframe tbody tr th {\n",
              "        vertical-align: top;\n",
              "    }\n",
              "\n",
              "    .dataframe thead th {\n",
              "        text-align: right;\n",
              "    }\n",
              "</style>\n",
              "<table border=\"1\" class=\"dataframe\">\n",
              "  <thead>\n",
              "    <tr style=\"text-align: right;\">\n",
              "      <th></th>\n",
              "      <th>rank</th>\n",
              "      <th>name</th>\n",
              "      <th>city_state</th>\n",
              "      <th>city</th>\n",
              "      <th>state</th>\n",
              "      <th>acceptance_rate</th>\n",
              "      <th>price</th>\n",
              "      <th>SAT_range</th>\n",
              "      <th>SAT_low</th>\n",
              "      <th>SAT_high</th>\n",
              "      <th>region</th>\n",
              "      <th>SAT_ave</th>\n",
              "    </tr>\n",
              "  </thead>\n",
              "  <tbody>\n",
              "    <tr>\n",
              "      <th>0</th>\n",
              "      <td>1</td>\n",
              "      <td>Massachusetts Institute of Technology</td>\n",
              "      <td>Cambridge, MA</td>\n",
              "      <td>Cambridge</td>\n",
              "      <td>MA</td>\n",
              "      <td>7</td>\n",
              "      <td>19998.0</td>\n",
              "      <td>1510-1580</td>\n",
              "      <td>1510.0</td>\n",
              "      <td>1580.0</td>\n",
              "      <td>New England</td>\n",
              "      <td>1545.0</td>\n",
              "    </tr>\n",
              "    <tr>\n",
              "      <th>1</th>\n",
              "      <td>2</td>\n",
              "      <td>Stanford University</td>\n",
              "      <td>Stanford, CA</td>\n",
              "      <td>Stanford</td>\n",
              "      <td>CA</td>\n",
              "      <td>5</td>\n",
              "      <td>20023.0</td>\n",
              "      <td>1420-1570</td>\n",
              "      <td>1420.0</td>\n",
              "      <td>1570.0</td>\n",
              "      <td>Far West</td>\n",
              "      <td>1495.0</td>\n",
              "    </tr>\n",
              "    <tr>\n",
              "      <th>2</th>\n",
              "      <td>3</td>\n",
              "      <td>Harvard University</td>\n",
              "      <td>Cambridge, MA</td>\n",
              "      <td>Cambridge</td>\n",
              "      <td>MA</td>\n",
              "      <td>5</td>\n",
              "      <td>18037.0</td>\n",
              "      <td>1460-1580</td>\n",
              "      <td>1460.0</td>\n",
              "      <td>1580.0</td>\n",
              "      <td>New England</td>\n",
              "      <td>1520.0</td>\n",
              "    </tr>\n",
              "    <tr>\n",
              "      <th>3</th>\n",
              "      <td>4</td>\n",
              "      <td>Yale University</td>\n",
              "      <td>New Haven, CT</td>\n",
              "      <td>New Haven</td>\n",
              "      <td>CT</td>\n",
              "      <td>7</td>\n",
              "      <td>17511.0</td>\n",
              "      <td>1460-1580</td>\n",
              "      <td>1460.0</td>\n",
              "      <td>1580.0</td>\n",
              "      <td>New England</td>\n",
              "      <td>1520.0</td>\n",
              "    </tr>\n",
              "    <tr>\n",
              "      <th>4</th>\n",
              "      <td>5</td>\n",
              "      <td>Princeton University</td>\n",
              "      <td>Princeton, NJ</td>\n",
              "      <td>Princeton</td>\n",
              "      <td>NJ</td>\n",
              "      <td>6</td>\n",
              "      <td>18685.0</td>\n",
              "      <td>1450-1570</td>\n",
              "      <td>1450.0</td>\n",
              "      <td>1570.0</td>\n",
              "      <td>Mid East</td>\n",
              "      <td>1510.0</td>\n",
              "    </tr>\n",
              "  </tbody>\n",
              "</table>\n",
              "</div>\n",
              "      <button class=\"colab-df-convert\" onclick=\"convertToInteractive('df-54cc4830-6d71-498f-80d4-a3df23ed37c1')\"\n",
              "              title=\"Convert this dataframe to an interactive table.\"\n",
              "              style=\"display:none;\">\n",
              "        \n",
              "  <svg xmlns=\"http://www.w3.org/2000/svg\" height=\"24px\"viewBox=\"0 0 24 24\"\n",
              "       width=\"24px\">\n",
              "    <path d=\"M0 0h24v24H0V0z\" fill=\"none\"/>\n",
              "    <path d=\"M18.56 5.44l.94 2.06.94-2.06 2.06-.94-2.06-.94-.94-2.06-.94 2.06-2.06.94zm-11 1L8.5 8.5l.94-2.06 2.06-.94-2.06-.94L8.5 2.5l-.94 2.06-2.06.94zm10 10l.94 2.06.94-2.06 2.06-.94-2.06-.94-.94-2.06-.94 2.06-2.06.94z\"/><path d=\"M17.41 7.96l-1.37-1.37c-.4-.4-.92-.59-1.43-.59-.52 0-1.04.2-1.43.59L10.3 9.45l-7.72 7.72c-.78.78-.78 2.05 0 2.83L4 21.41c.39.39.9.59 1.41.59.51 0 1.02-.2 1.41-.59l7.78-7.78 2.81-2.81c.8-.78.8-2.07 0-2.86zM5.41 20L4 18.59l7.72-7.72 1.47 1.35L5.41 20z\"/>\n",
              "  </svg>\n",
              "      </button>\n",
              "      \n",
              "  <style>\n",
              "    .colab-df-container {\n",
              "      display:flex;\n",
              "      flex-wrap:wrap;\n",
              "      gap: 12px;\n",
              "    }\n",
              "\n",
              "    .colab-df-convert {\n",
              "      background-color: #E8F0FE;\n",
              "      border: none;\n",
              "      border-radius: 50%;\n",
              "      cursor: pointer;\n",
              "      display: none;\n",
              "      fill: #1967D2;\n",
              "      height: 32px;\n",
              "      padding: 0 0 0 0;\n",
              "      width: 32px;\n",
              "    }\n",
              "\n",
              "    .colab-df-convert:hover {\n",
              "      background-color: #E2EBFA;\n",
              "      box-shadow: 0px 1px 2px rgba(60, 64, 67, 0.3), 0px 1px 3px 1px rgba(60, 64, 67, 0.15);\n",
              "      fill: #174EA6;\n",
              "    }\n",
              "\n",
              "    [theme=dark] .colab-df-convert {\n",
              "      background-color: #3B4455;\n",
              "      fill: #D2E3FC;\n",
              "    }\n",
              "\n",
              "    [theme=dark] .colab-df-convert:hover {\n",
              "      background-color: #434B5C;\n",
              "      box-shadow: 0px 1px 3px 1px rgba(0, 0, 0, 0.15);\n",
              "      filter: drop-shadow(0px 1px 2px rgba(0, 0, 0, 0.3));\n",
              "      fill: #FFFFFF;\n",
              "    }\n",
              "  </style>\n",
              "\n",
              "      <script>\n",
              "        const buttonEl =\n",
              "          document.querySelector('#df-54cc4830-6d71-498f-80d4-a3df23ed37c1 button.colab-df-convert');\n",
              "        buttonEl.style.display =\n",
              "          google.colab.kernel.accessAllowed ? 'block' : 'none';\n",
              "\n",
              "        async function convertToInteractive(key) {\n",
              "          const element = document.querySelector('#df-54cc4830-6d71-498f-80d4-a3df23ed37c1');\n",
              "          const dataTable =\n",
              "            await google.colab.kernel.invokeFunction('convertToInteractive',\n",
              "                                                     [key], {});\n",
              "          if (!dataTable) return;\n",
              "\n",
              "          const docLinkHtml = 'Like what you see? Visit the ' +\n",
              "            '<a target=\"_blank\" href=https://colab.research.google.com/notebooks/data_table.ipynb>data table notebook</a>'\n",
              "            + ' to learn more about interactive tables.';\n",
              "          element.innerHTML = '';\n",
              "          dataTable['output_type'] = 'display_data';\n",
              "          await google.colab.output.renderOutput(dataTable, element);\n",
              "          const docLink = document.createElement('div');\n",
              "          docLink.innerHTML = docLinkHtml;\n",
              "          element.appendChild(docLink);\n",
              "        }\n",
              "      </script>\n",
              "    </div>\n",
              "  </div>\n",
              "  "
            ]
          },
          "metadata": {}
        },
        {
          "output_type": "display_data",
          "data": {
            "text/plain": [
              "     rank                   name       city_state         city state  \\\n",
              "245   246   University of Oregon       Eugene, OR       Eugene    OR   \n",
              "246   247        Whitman College  Walla Walla, WA  Walla Walla    WA   \n",
              "247   248    Hallmark University  San Antonio, TX  San Antonio    TX   \n",
              "248   249  College of Saint Mary        Omaha, NE        Omaha    NE   \n",
              "249   250    CUNY Baruch College     New York, NY     New York    NY   \n",
              "\n",
              "     acceptance_rate    price  SAT_range  SAT_low  SAT_high     region  \\\n",
              "245               84  17646.0  1090-1290   1090.0    1290.0   Far West   \n",
              "246               54  38989.0  1230-1430   1230.0    1430.0   Far West   \n",
              "247               41   9887.0        NaN      NaN       NaN  Southwest   \n",
              "248               50  15128.0        NaN      NaN       NaN     Plains   \n",
              "249               41   3897.0  1170-1360   1170.0    1360.0   Mid East   \n",
              "\n",
              "     SAT_ave  \n",
              "245   1190.0  \n",
              "246   1330.0  \n",
              "247      NaN  \n",
              "248      NaN  \n",
              "249   1265.0  "
            ],
            "text/html": [
              "\n",
              "  <div id=\"df-6f303e3b-aa02-4786-ba12-cd7667baa178\">\n",
              "    <div class=\"colab-df-container\">\n",
              "      <div>\n",
              "<style scoped>\n",
              "    .dataframe tbody tr th:only-of-type {\n",
              "        vertical-align: middle;\n",
              "    }\n",
              "\n",
              "    .dataframe tbody tr th {\n",
              "        vertical-align: top;\n",
              "    }\n",
              "\n",
              "    .dataframe thead th {\n",
              "        text-align: right;\n",
              "    }\n",
              "</style>\n",
              "<table border=\"1\" class=\"dataframe\">\n",
              "  <thead>\n",
              "    <tr style=\"text-align: right;\">\n",
              "      <th></th>\n",
              "      <th>rank</th>\n",
              "      <th>name</th>\n",
              "      <th>city_state</th>\n",
              "      <th>city</th>\n",
              "      <th>state</th>\n",
              "      <th>acceptance_rate</th>\n",
              "      <th>price</th>\n",
              "      <th>SAT_range</th>\n",
              "      <th>SAT_low</th>\n",
              "      <th>SAT_high</th>\n",
              "      <th>region</th>\n",
              "      <th>SAT_ave</th>\n",
              "    </tr>\n",
              "  </thead>\n",
              "  <tbody>\n",
              "    <tr>\n",
              "      <th>245</th>\n",
              "      <td>246</td>\n",
              "      <td>University of Oregon</td>\n",
              "      <td>Eugene, OR</td>\n",
              "      <td>Eugene</td>\n",
              "      <td>OR</td>\n",
              "      <td>84</td>\n",
              "      <td>17646.0</td>\n",
              "      <td>1090-1290</td>\n",
              "      <td>1090.0</td>\n",
              "      <td>1290.0</td>\n",
              "      <td>Far West</td>\n",
              "      <td>1190.0</td>\n",
              "    </tr>\n",
              "    <tr>\n",
              "      <th>246</th>\n",
              "      <td>247</td>\n",
              "      <td>Whitman College</td>\n",
              "      <td>Walla Walla, WA</td>\n",
              "      <td>Walla Walla</td>\n",
              "      <td>WA</td>\n",
              "      <td>54</td>\n",
              "      <td>38989.0</td>\n",
              "      <td>1230-1430</td>\n",
              "      <td>1230.0</td>\n",
              "      <td>1430.0</td>\n",
              "      <td>Far West</td>\n",
              "      <td>1330.0</td>\n",
              "    </tr>\n",
              "    <tr>\n",
              "      <th>247</th>\n",
              "      <td>248</td>\n",
              "      <td>Hallmark University</td>\n",
              "      <td>San Antonio, TX</td>\n",
              "      <td>San Antonio</td>\n",
              "      <td>TX</td>\n",
              "      <td>41</td>\n",
              "      <td>9887.0</td>\n",
              "      <td>NaN</td>\n",
              "      <td>NaN</td>\n",
              "      <td>NaN</td>\n",
              "      <td>Southwest</td>\n",
              "      <td>NaN</td>\n",
              "    </tr>\n",
              "    <tr>\n",
              "      <th>248</th>\n",
              "      <td>249</td>\n",
              "      <td>College of Saint Mary</td>\n",
              "      <td>Omaha, NE</td>\n",
              "      <td>Omaha</td>\n",
              "      <td>NE</td>\n",
              "      <td>50</td>\n",
              "      <td>15128.0</td>\n",
              "      <td>NaN</td>\n",
              "      <td>NaN</td>\n",
              "      <td>NaN</td>\n",
              "      <td>Plains</td>\n",
              "      <td>NaN</td>\n",
              "    </tr>\n",
              "    <tr>\n",
              "      <th>249</th>\n",
              "      <td>250</td>\n",
              "      <td>CUNY Baruch College</td>\n",
              "      <td>New York, NY</td>\n",
              "      <td>New York</td>\n",
              "      <td>NY</td>\n",
              "      <td>41</td>\n",
              "      <td>3897.0</td>\n",
              "      <td>1170-1360</td>\n",
              "      <td>1170.0</td>\n",
              "      <td>1360.0</td>\n",
              "      <td>Mid East</td>\n",
              "      <td>1265.0</td>\n",
              "    </tr>\n",
              "  </tbody>\n",
              "</table>\n",
              "</div>\n",
              "      <button class=\"colab-df-convert\" onclick=\"convertToInteractive('df-6f303e3b-aa02-4786-ba12-cd7667baa178')\"\n",
              "              title=\"Convert this dataframe to an interactive table.\"\n",
              "              style=\"display:none;\">\n",
              "        \n",
              "  <svg xmlns=\"http://www.w3.org/2000/svg\" height=\"24px\"viewBox=\"0 0 24 24\"\n",
              "       width=\"24px\">\n",
              "    <path d=\"M0 0h24v24H0V0z\" fill=\"none\"/>\n",
              "    <path d=\"M18.56 5.44l.94 2.06.94-2.06 2.06-.94-2.06-.94-.94-2.06-.94 2.06-2.06.94zm-11 1L8.5 8.5l.94-2.06 2.06-.94-2.06-.94L8.5 2.5l-.94 2.06-2.06.94zm10 10l.94 2.06.94-2.06 2.06-.94-2.06-.94-.94-2.06-.94 2.06-2.06.94z\"/><path d=\"M17.41 7.96l-1.37-1.37c-.4-.4-.92-.59-1.43-.59-.52 0-1.04.2-1.43.59L10.3 9.45l-7.72 7.72c-.78.78-.78 2.05 0 2.83L4 21.41c.39.39.9.59 1.41.59.51 0 1.02-.2 1.41-.59l7.78-7.78 2.81-2.81c.8-.78.8-2.07 0-2.86zM5.41 20L4 18.59l7.72-7.72 1.47 1.35L5.41 20z\"/>\n",
              "  </svg>\n",
              "      </button>\n",
              "      \n",
              "  <style>\n",
              "    .colab-df-container {\n",
              "      display:flex;\n",
              "      flex-wrap:wrap;\n",
              "      gap: 12px;\n",
              "    }\n",
              "\n",
              "    .colab-df-convert {\n",
              "      background-color: #E8F0FE;\n",
              "      border: none;\n",
              "      border-radius: 50%;\n",
              "      cursor: pointer;\n",
              "      display: none;\n",
              "      fill: #1967D2;\n",
              "      height: 32px;\n",
              "      padding: 0 0 0 0;\n",
              "      width: 32px;\n",
              "    }\n",
              "\n",
              "    .colab-df-convert:hover {\n",
              "      background-color: #E2EBFA;\n",
              "      box-shadow: 0px 1px 2px rgba(60, 64, 67, 0.3), 0px 1px 3px 1px rgba(60, 64, 67, 0.15);\n",
              "      fill: #174EA6;\n",
              "    }\n",
              "\n",
              "    [theme=dark] .colab-df-convert {\n",
              "      background-color: #3B4455;\n",
              "      fill: #D2E3FC;\n",
              "    }\n",
              "\n",
              "    [theme=dark] .colab-df-convert:hover {\n",
              "      background-color: #434B5C;\n",
              "      box-shadow: 0px 1px 3px 1px rgba(0, 0, 0, 0.15);\n",
              "      filter: drop-shadow(0px 1px 2px rgba(0, 0, 0, 0.3));\n",
              "      fill: #FFFFFF;\n",
              "    }\n",
              "  </style>\n",
              "\n",
              "      <script>\n",
              "        const buttonEl =\n",
              "          document.querySelector('#df-6f303e3b-aa02-4786-ba12-cd7667baa178 button.colab-df-convert');\n",
              "        buttonEl.style.display =\n",
              "          google.colab.kernel.accessAllowed ? 'block' : 'none';\n",
              "\n",
              "        async function convertToInteractive(key) {\n",
              "          const element = document.querySelector('#df-6f303e3b-aa02-4786-ba12-cd7667baa178');\n",
              "          const dataTable =\n",
              "            await google.colab.kernel.invokeFunction('convertToInteractive',\n",
              "                                                     [key], {});\n",
              "          if (!dataTable) return;\n",
              "\n",
              "          const docLinkHtml = 'Like what you see? Visit the ' +\n",
              "            '<a target=\"_blank\" href=https://colab.research.google.com/notebooks/data_table.ipynb>data table notebook</a>'\n",
              "            + ' to learn more about interactive tables.';\n",
              "          element.innerHTML = '';\n",
              "          dataTable['output_type'] = 'display_data';\n",
              "          await google.colab.output.renderOutput(dataTable, element);\n",
              "          const docLink = document.createElement('div');\n",
              "          docLink.innerHTML = docLinkHtml;\n",
              "          element.appendChild(docLink);\n",
              "        }\n",
              "      </script>\n",
              "    </div>\n",
              "  </div>\n",
              "  "
            ]
          },
          "metadata": {}
        }
      ]
    },
    {
      "cell_type": "markdown",
      "source": [
        "## Data Value Counts"
      ],
      "metadata": {
        "id": "wCZOiQEbmkNJ"
      }
    },
    {
      "cell_type": "code",
      "source": [
        "#count and percentage-breakdown of schools by state\n",
        "print(df['state'].value_counts())\n",
        "print(df['state'].value_counts(normalize=True))"
      ],
      "metadata": {
        "id": "PL_NUf6lmonN",
        "colab": {
          "base_uri": "https://localhost:8080/"
        },
        "outputId": "6c6a1666-dfa2-4fe2-e570-21c49491b434"
      },
      "execution_count": 7,
      "outputs": [
        {
          "output_type": "stream",
          "name": "stdout",
          "text": [
            "CA    25\n",
            "NY    23\n",
            "MA    18\n",
            "PA    17\n",
            "FL    12\n",
            "TX    11\n",
            "OH    10\n",
            "IL    10\n",
            "VA     8\n",
            "TN     6\n",
            "CT     6\n",
            "MN     6\n",
            "IN     6\n",
            "CO     5\n",
            "NC     5\n",
            "AR     5\n",
            "OR     5\n",
            "MI     5\n",
            "IA     4\n",
            "GA     4\n",
            "AL     4\n",
            "MO     4\n",
            "NJ     4\n",
            "OK     3\n",
            "SC     3\n",
            "NE     3\n",
            "MS     3\n",
            "WI     3\n",
            "WA     3\n",
            "LA     3\n",
            "ME     3\n",
            "MD     3\n",
            "DC     3\n",
            "KY     2\n",
            "AZ     2\n",
            "UT     2\n",
            "KS     2\n",
            "RI     2\n",
            "SD     1\n",
            "WY     1\n",
            "DE     1\n",
            "NM     1\n",
            "NH     1\n",
            "VT     1\n",
            "WV     1\n",
            "Name: state, dtype: int64\n",
            "CA    0.100\n",
            "NY    0.092\n",
            "MA    0.072\n",
            "PA    0.068\n",
            "FL    0.048\n",
            "TX    0.044\n",
            "OH    0.040\n",
            "IL    0.040\n",
            "VA    0.032\n",
            "TN    0.024\n",
            "CT    0.024\n",
            "MN    0.024\n",
            "IN    0.024\n",
            "CO    0.020\n",
            "NC    0.020\n",
            "AR    0.020\n",
            "OR    0.020\n",
            "MI    0.020\n",
            "IA    0.016\n",
            "GA    0.016\n",
            "AL    0.016\n",
            "MO    0.016\n",
            "NJ    0.016\n",
            "OK    0.012\n",
            "SC    0.012\n",
            "NE    0.012\n",
            "MS    0.012\n",
            "WI    0.012\n",
            "WA    0.012\n",
            "LA    0.012\n",
            "ME    0.012\n",
            "MD    0.012\n",
            "DC    0.012\n",
            "KY    0.008\n",
            "AZ    0.008\n",
            "UT    0.008\n",
            "KS    0.008\n",
            "RI    0.008\n",
            "SD    0.004\n",
            "WY    0.004\n",
            "DE    0.004\n",
            "NM    0.004\n",
            "NH    0.004\n",
            "VT    0.004\n",
            "WV    0.004\n",
            "Name: state, dtype: float64\n"
          ]
        }
      ]
    },
    {
      "cell_type": "code",
      "source": [
        "#count and percentage-breakdown of schools by region\n",
        "print(df['region'].value_counts())\n",
        "print(df['region'].value_counts(normalize=True))"
      ],
      "metadata": {
        "id": "ofIIJMcLoFIK",
        "colab": {
          "base_uri": "https://localhost:8080/"
        },
        "outputId": "7b1422cb-ee88-41d3-ce14-69fa4a6455bb"
      },
      "execution_count": 8,
      "outputs": [
        {
          "output_type": "stream",
          "name": "stdout",
          "text": [
            "Southeast          56\n",
            "Mid East           51\n",
            "Great Lakes        34\n",
            "Far West           33\n",
            "New England        31\n",
            "Plains             20\n",
            "Southwest          17\n",
            "Rocky Mountains     8\n",
            "Name: region, dtype: int64\n",
            "Southeast          0.224\n",
            "Mid East           0.204\n",
            "Great Lakes        0.136\n",
            "Far West           0.132\n",
            "New England        0.124\n",
            "Plains             0.080\n",
            "Southwest          0.068\n",
            "Rocky Mountains    0.032\n",
            "Name: region, dtype: float64\n"
          ]
        }
      ]
    },
    {
      "cell_type": "markdown",
      "source": [
        "##Grouping Data"
      ],
      "metadata": {
        "id": "4OZF7leQqYK8"
      }
    },
    {
      "cell_type": "code",
      "source": [
        "#mean, median, and standard deviation of the school rank of each geographic region\n",
        "print('MEAN')\n",
        "print(df.groupby('region')['rank'].mean())\n",
        "print('\\n STANDARD DEVIATION')\n",
        "print(df.groupby('region')['rank'].std())\n",
        "print('\\n MEDIAN')\n",
        "print(df.groupby('region')['rank'].median())"
      ],
      "metadata": {
        "colab": {
          "base_uri": "https://localhost:8080/"
        },
        "id": "gSiK_qCAqaiW",
        "outputId": "546e53a9-b241-43dc-9ecd-97d09e178aa5"
      },
      "execution_count": 9,
      "outputs": [
        {
          "output_type": "stream",
          "name": "stdout",
          "text": [
            "MEAN\n",
            "region\n",
            "Far West           115.060606\n",
            "Great Lakes        143.852941\n",
            "Mid East           117.686275\n",
            "New England         78.838710\n",
            "Plains             146.450000\n",
            "Rocky Mountains    148.750000\n",
            "Southeast          139.964286\n",
            "Southwest          134.352941\n",
            "Name: rank, dtype: float64\n",
            "\n",
            " STANDARD DEVIATION\n",
            "region\n",
            "Far West           70.825904\n",
            "Great Lakes        75.459856\n",
            "Mid East           75.684738\n",
            "New England        58.192266\n",
            "Plains             58.202437\n",
            "Rocky Mountains    50.804246\n",
            "Southeast          74.175459\n",
            "Southwest          65.566704\n",
            "Name: rank, dtype: float64\n",
            "\n",
            " MEDIAN\n",
            "region\n",
            "Far West           107.0\n",
            "Great Lakes        146.0\n",
            "Mid East           108.0\n",
            "New England         56.0\n",
            "Plains             153.0\n",
            "Rocky Mountains    143.5\n",
            "Southeast          161.0\n",
            "Southwest          127.0\n",
            "Name: rank, dtype: float64\n"
          ]
        }
      ]
    },
    {
      "cell_type": "markdown",
      "source": [
        "## Plotting Data"
      ],
      "metadata": {
        "id": "G_lVRjATtaYm"
      }
    },
    {
      "cell_type": "code",
      "source": [
        "#plotting the mean ranking for each geographic region (lower value means a higher ranked, or \"better\", school); using the Matplotlib library\n",
        "df.groupby('region')['rank'].mean().sort_values().plot(kind='barh')\n",
        "\n",
        "\n",
        "plt.ylabel('Region')\n",
        "plt.xlabel('Average Ranking')\n",
        "plt.title(\"Average Raking, by Region\")\n",
        "\n",
        "plt.show()"
      ],
      "metadata": {
        "id": "_p6FBw7tsbrH",
        "colab": {
          "base_uri": "https://localhost:8080/",
          "height": 295
        },
        "outputId": "2fa694a4-5f81-4ea7-fec3-08d37158feb9"
      },
      "execution_count": 21,
      "outputs": [
        {
          "output_type": "display_data",
          "data": {
            "text/plain": [
              "<Figure size 432x288 with 1 Axes>"
            ],
            "image/png": "[encoded data removed]"
          },
          "metadata": {
            "needs_background": "light"
          }
        }
      ]
    },
    {
      "cell_type": "code",
      "source": [
        "#plotting average region ranking against average region acceptance rate; using the Matplotlib library\n",
        "df.groupby('region')['rank','acceptance_rate'].mean().sort_values(by='rank').plot(\n",
        "    kind='bar', secondary_y='acceptance_rate')\n",
        "\n",
        "ax1, ax2 = plt.gcf().get_axes()\n",
        "\n",
        "ax1.set_ylabel('Average Rank')\n",
        "ax2.set_ylabel('Average Acceptance Rate')\n",
        "plt.title(\"Average Rank and Acceptance Rate, by Region\")\n",
        "\n",
        "plt.show()"
      ],
      "metadata": {
        "id": "Fcld-m0H3-Bq",
        "colab": {
          "base_uri": "https://localhost:8080/",
          "height": 426
        },
        "outputId": "9ea6fe11-a3d4-486e-f110-cdc5ba17f058"
      },
      "execution_count": 11,
      "outputs": [
        {
          "output_type": "stream",
          "name": "stderr",
          "text": [
            "<ipython-input-11-dca2ba24a62d>:2: FutureWarning: Indexing with multiple keys (implicitly converted to a tuple of keys) will be deprecated, use a list instead.\n",
            "  df.groupby('region')['rank','acceptance_rate'].mean().sort_values(by='rank').plot(\n"
          ]
        },
        {
          "output_type": "display_data",
          "data": {
            "text/plain": [
              "<Figure size 432x288 with 2 Axes>"
            ],
            "image/png": "[encoded data removed]"
          },
          "metadata": {
            "needs_background": "light"
          }
        }
      ]
    },
    {
      "cell_type": "markdown",
      "source": [
        "There appears to be a rather **clear positive correlation between rank and acceptance rate**: the lower a region's average rank is, the lower a region's average acceptance rate is. Thus, rank and acceptance rate appear to be good predictors of one another."
      ],
      "metadata": {
        "id": "Kuf66AxT8CTw"
      }
    },
    {
      "cell_type": "code",
      "source": [
        "#plotting average region ranking against average SAT score; using the Matplotlib library\n",
        "df.groupby('region')['rank','SAT_ave'].mean().sort_values(by='rank').plot(\n",
        "    kind='bar', secondary_y='SAT_ave')\n",
        "\n",
        "ax1, ax2 = plt.gcf().get_axes()\n",
        "\n",
        "ax1.set_ylabel('Average Rank')\n",
        "ax2.set_ylabel('Average SAT Score')\n",
        "plt.title(\"Average Rank and SAT Score, by Region\")\n",
        "\n",
        "plt.show()"
      ],
      "metadata": {
        "id": "64NFDCOc7M65",
        "colab": {
          "base_uri": "https://localhost:8080/",
          "height": 426
        },
        "outputId": "a4019cc3-b12f-4e93-d4c1-dca8a897d4f4"
      },
      "execution_count": 25,
      "outputs": [
        {
          "output_type": "stream",
          "name": "stderr",
          "text": [
            "<ipython-input-25-8219db37c628>:2: FutureWarning: Indexing with multiple keys (implicitly converted to a tuple of keys) will be deprecated, use a list instead.\n",
            "  df.groupby('region')['rank','SAT_ave'].mean().sort_values(by='rank').plot(\n"
          ]
        },
        {
          "output_type": "display_data",
          "data": {
            "text/plain": [
              "<Figure size 432x288 with 2 Axes>"
            ],
            "image/png": "[encoded data removed]"
          },
          "metadata": {
            "needs_background": "light"
          }
        }
      ]
    },
    {
      "cell_type": "markdown",
      "source": [
        "There appears to be a rather **clear negative correlation between rank and SAT scores**: the lower a region's average rank is, the higher a region's average SAT score is. Thus, rank and SAT score appear to be decent predictors of one another."
      ],
      "metadata": {
        "id": "UvF7Bs3Q8iTd"
      }
    },
    {
      "cell_type": "code",
      "source": [
        "#plotting school ranking against acceptance rate as a scatterplot; using the Seaborn library\n",
        "x = df['rank']\n",
        "y = df['acceptance_rate']\n",
        "\n",
        "sns.regplot(x, y)"
      ],
      "metadata": {
        "id": "Mf4ZV69e81bp",
        "colab": {
          "base_uri": "https://localhost:8080/",
          "height": 354
        },
        "outputId": "bb6eb4fb-bb2b-419f-9cda-b723045bf753"
      },
      "execution_count": 13,
      "outputs": [
        {
          "output_type": "stream",
          "name": "stderr",
          "text": [
            "/usr/local/lib/python3.8/dist-packages/seaborn/_decorators.py:36: FutureWarning: Pass the following variables as keyword args: x, y. From version 0.12, the only valid positional argument will be `data`, and passing other arguments without an explicit keyword will result in an error or misinterpretation.\n",
            "  warnings.warn(\n"
          ]
        },
        {
          "output_type": "execute_result",
          "data": {
            "text/plain": [
              "<matplotlib.axes._subplots.AxesSubplot at 0x7fa388341ee0>"
            ]
          },
          "metadata": {},
          "execution_count": 13
        },
        {
          "output_type": "display_data",
          "data": {
            "text/plain": [
              "<Figure size 432x288 with 1 Axes>"
            ],
            "image/png": "[encoded data removed]"
          },
          "metadata": {
            "needs_background": "light"
          }
        }
      ]
    },
    {
      "cell_type": "code",
      "source": [
        "#plotting school ranking against acceptance rate as a scatterplot; using the Matplotlib library\n",
        "x = df['rank']\n",
        "y = df['acceptance_rate']\n",
        "\n",
        "#create scatterplot without line of regression \n",
        "plt.plot(x, y, 'o')\n",
        "\n",
        "#calculate m (slope) and b (intercept) of linear regression line\n",
        "m, b = np.polyfit(x, y, 1)\n",
        "\n",
        "#add regression line original scatterplot\n",
        "plt.plot(x, m*x+b)\n",
        "\n",
        "#add title and labels to graph\n",
        "plt.title(\"School Rank versus Acceptance Rate, Top 250 Schools\")\n",
        "plt.xlabel(\"Rank\")\n",
        "plt.ylabel(\"Acceptance Rate\")\n",
        "\n",
        "#print correlation coeficient \n",
        "print(np.corrcoef(x, y)[0, 1])\n",
        "\n",
        "#display graph\n",
        "plt.show()"
      ],
      "metadata": {
        "id": "HCe8cMhrAHrl",
        "colab": {
          "base_uri": "https://localhost:8080/",
          "height": 313
        },
        "outputId": "2fa78d3f-02c9-48ec-ac94-3d42be3bcc7a"
      },
      "execution_count": 26,
      "outputs": [
        {
          "output_type": "stream",
          "name": "stdout",
          "text": [
            "0.7237544507480256\n"
          ]
        },
        {
          "output_type": "display_data",
          "data": {
            "text/plain": [
              "<Figure size 432x288 with 1 Axes>"
            ],
            "image/png": "[encoded data removed]"
          },
          "metadata": {
            "needs_background": "light"
          }
        }
      ]
    },
    {
      "cell_type": "markdown",
      "source": [
        "With a **correlation coefficient of 0.724, the correlation between ranking and acceptance rate is generally strong**: a school with a low acceptance rate is likely to be a school with a low numerical ranking (which indicates a higher quality school)."
      ],
      "metadata": {
        "id": "zeHMhaX8AvcD"
      }
    },
    {
      "cell_type": "code",
      "source": [
        "#plotting school ranking against acceptance rate as a scatterplot; using the Matplotlib library\n",
        "#     limited to the top 50 schools!\n",
        "\n",
        "#adding filter where rank <= 50\n",
        "filter = df['rank'] <= 50\n",
        "\n",
        "#setting x coord as rank and y coord as acceptance rate\n",
        "x = df.where(filter).dropna()['rank']\n",
        "y = df.where(filter).dropna()['acceptance_rate']\n",
        "\n",
        "#create scatterplot without line of regression \n",
        "plt.plot(x, y, 'o')\n",
        "\n",
        "#calculate m (slope) and b (intercept) of linear regression line\n",
        "m, b = np.polyfit(x, y, 1)\n",
        "\n",
        "#add regression line original scatterplot\n",
        "plt.plot(x, m*x+b)\n",
        "\n",
        "#add title and labels to graph\n",
        "plt.title(\"School Rank vs. Acceptance Rate, Top 50 Schools\")\n",
        "plt.xlabel(\"Rank\")\n",
        "plt.ylabel(\"Acceptance Rate\")\n",
        "\n",
        "#print correlation coeficient \n",
        "print(np.corrcoef(x, y)[0, 1])\n",
        "\n",
        "#display graph\n",
        "plt.show()"
      ],
      "metadata": {
        "id": "9J8jOgDVCbPD",
        "colab": {
          "base_uri": "https://localhost:8080/",
          "height": 313
        },
        "outputId": "4233edb1-c39e-4dee-d840-b618a7a5765e"
      },
      "execution_count": 15,
      "outputs": [
        {
          "output_type": "stream",
          "name": "stdout",
          "text": [
            "0.7556666125985262\n"
          ]
        },
        {
          "output_type": "display_data",
          "data": {
            "text/plain": [
              "<Figure size 432x288 with 1 Axes>"
            ],
            "image/png": "[encoded data removed]"
          },
          "metadata": {
            "needs_background": "light"
          }
        }
      ]
    },
    {
      "cell_type": "markdown",
      "source": [
        "With a **correlation coefficient of 0.756, the relationship between rank and acceptance rate becomes stronger** (alebeit marginally) when limited to the top 50 colleges. \n",
        "\n",
        "\n",
        "---\n",
        "\n",
        "Are other variables better predictors of college ranking?\n"
      ],
      "metadata": {
        "id": "dQRtAPjLiYD2"
      }
    },
    {
      "cell_type": "code",
      "source": [
        "#plotting school ranking against acceptance rate as a scatterplot; using the Matplotlib library\n",
        "x = df.dropna()['rank']\n",
        "y = df.dropna()['price']\n",
        "\n",
        "#create scatterplot without line of regression \n",
        "plt.plot(x, y, 'o')\n",
        "\n",
        "#calculate m (slope) and b (intercept) of linear regression line\n",
        "m, b = np.polyfit(x, y, 1)\n",
        "\n",
        "#add regression line original scatterplot\n",
        "plt.plot(x, m*x+b)\n",
        "\n",
        "#add title and labels to graph\n",
        "plt.title(\"School Rank vs. Price after Aid, Top 250 Schools\")\n",
        "plt.xlabel(\"Rank\")\n",
        "plt.ylabel(\"Price\")\n",
        "\n",
        "#print correlation coeficient \n",
        "print(np.corrcoef(x, y)[0, 1])\n",
        "\n",
        "#display graph\n",
        "plt.show()"
      ],
      "metadata": {
        "id": "DmfEKFclklk2",
        "colab": {
          "base_uri": "https://localhost:8080/",
          "height": 313
        },
        "outputId": "2b208b3a-8235-4b81-95ae-666bac15efaf"
      },
      "execution_count": 16,
      "outputs": [
        {
          "output_type": "stream",
          "name": "stdout",
          "text": [
            "-0.014925205436982397\n"
          ]
        },
        {
          "output_type": "display_data",
          "data": {
            "text/plain": [
              "<Figure size 432x288 with 1 Axes>"
            ],
            "image/png": "[encoded data removed]"
          },
          "metadata": {
            "needs_background": "light"
          }
        }
      ]
    },
    {
      "cell_type": "markdown",
      "source": [
        "With a correlation coefficient of -0.015, **there is no meaningful relationship between price of college after aid and the ranking of said college**. "
      ],
      "metadata": {
        "id": "ESGSGV4RmV3P"
      }
    },
    {
      "cell_type": "code",
      "source": [
        "#plotting school ranking against average SAT score as a scatterplot (using the Matplotlib library)\n",
        "x = df.dropna()['rank']\n",
        "y = df.dropna()['SAT_ave']\n",
        "\n",
        "#create scatterplot without line of regression \n",
        "plt.plot(x, y, 'o')\n",
        "\n",
        "#calculate m (slope) and b (intercept) of linear regression line\n",
        "m, b = np.polyfit(x, y, 1)\n",
        "\n",
        "#add regression line original scatterplot\n",
        "plt.plot(x, m*x+b)\n",
        "\n",
        "#add title and labels to graph\n",
        "plt.title(\"School Rank vs. Average SAT Score, Top 250 Schools\")\n",
        "plt.xlabel(\"Rank\")\n",
        "plt.ylabel(\"Average SAT\")\n",
        "\n",
        "#print correlation coeficient \n",
        "print(np.corrcoef(x, y)[0, 1])\n",
        "\n",
        "#display graph\n",
        "plt.show()"
      ],
      "metadata": {
        "colab": {
          "base_uri": "https://localhost:8080/",
          "height": 313
        },
        "outputId": "9e307e8e-8557-4269-f037-a4390d1996d2",
        "id": "YNjdt16fnMR3"
      },
      "execution_count": 17,
      "outputs": [
        {
          "output_type": "stream",
          "name": "stdout",
          "text": [
            "-0.8214811939587365\n"
          ]
        },
        {
          "output_type": "display_data",
          "data": {
            "text/plain": [
              "<Figure size 432x288 with 1 Axes>"
            ],
            "image/png": "[encoded data removed]"
          },
          "metadata": {
            "needs_background": "light"
          }
        }
      ]
    },
    {
      "cell_type": "markdown",
      "source": [
        "With a **correlation coefficient of -0.821, there appears to be a quite strong negative correlation between ranking and average SAT score**: higher student average SAT score trends with a lower school rank number (or, a \"better\" school). "
      ],
      "metadata": {
        "id": "0bSx_8CCoB-x"
      }
    },
    {
      "cell_type": "code",
      "source": [
        "#generating a correlation matrix between variables\n",
        "\n",
        "#removing SAT_low and SAT_high, as they are redundant with SAT_ave for this visualization\n",
        "df_corr = df[['rank', 'name', 'city_state', 'city', 'state', 'acceptance_rate',\n",
        "       'price', 'region', 'SAT_ave']]\n",
        "\n",
        "# plot correlation heatmap\n",
        "dataplot = sns.heatmap(df_corr.corr(), cmap=\"YlGnBu\", annot=True)\n",
        "\n",
        "# display heatmap\n",
        "plt.show()"
      ],
      "metadata": {
        "colab": {
          "base_uri": "https://localhost:8080/",
          "height": 270
        },
        "id": "0ESigmnLwFwX",
        "outputId": "144d6f9a-3c10-42f1-fddf-cb2780cc754a"
      },
      "execution_count": 18,
      "outputs": [
        {
          "output_type": "display_data",
          "data": {
            "text/plain": [
              "<Figure size 432x288 with 2 Axes>"
            ],
            "image/png": "[encoded data removed]"
          },
          "metadata": {
            "needs_background": "light"
          }
        }
      ]
    },
    {
      "cell_type": "markdown",
      "source": [
        "As seen in the above correlation charts, the **strongest correlations** appear between ***rank and acceptance rate***, ***rank and SAT score***, and ***acceptance rate and SAT score***."
      ],
      "metadata": {
        "id": "VulVsBL9JQyz"
      }
    }
  ]
}